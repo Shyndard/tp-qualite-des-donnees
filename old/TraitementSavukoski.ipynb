{
 "cells": [
  {
   "cell_type": "code",
   "execution_count": 1,
   "metadata": {},
   "outputs": [],
   "source": [
    "import matplotlib.pyplot as plt\n",
    "import matplotlib.widgets as widgets\n",
    "import pandas as pd\n",
    "import scipy as sp\n",
    "import numpy as np\n",
    "import calendar"
   ]
  },
  {
   "cell_type": "code",
   "execution_count": 2,
   "metadata": {},
   "outputs": [],
   "source": [
    "si = pd.read_excel(\"/home/jovyan/work/data/Savukoski kirkonkyla.xlsx\", sheet_name=2)"
   ]
  },
  {
   "cell_type": "code",
   "execution_count": 3,
   "metadata": {},
   "outputs": [],
   "source": [
    "# Définition d'une fonctions permettant de récupérer la prochaine valeur existante\n",
    "def getNextCorrectValue(df, rowIndex, columnIndex):\n",
    "    nextValue = df.iloc[(rowIndex + 1), columnIndex]\n",
    "    if np.isnan(nextValue):\n",
    "        return getNextCorrectValue(df, rowIndex+2, columnIndex)\n",
    "    else:\n",
    "        return nextValue\n",
    "\n",
    "# Définition d'une fonctions permettant de récupérer la précédente valeur existante\n",
    "def getPreviousCorrectValue(df, rowIndex, columnIndex):\n",
    "    nextValue = df.iloc[(rowIndex-1), columnIndex]\n",
    "    if np.isnan(nextValue):\n",
    "        return getNextCorrectValue(df, rowIndex-2, columnIndex)\n",
    "    else:\n",
    "        return nextValue\n",
    "    \n",
    "# Récupération des températures depuis l'excel\n",
    "temperature=[]\n",
    "indexArray=[]\n",
    "month = 1\n",
    "month_temperature=[]\n",
    "index = 1\n",
    "\n",
    "for row in range(0, 365):\n",
    "    temperature_value_max = si.iloc[row, 6]\n",
    "    temperature_value_min = si.iloc[row, 7]\n",
    "    # SI la valeur max est nulle, alors on va faire la moyenne entre les valeurs max \n",
    "    # du jour précédent et suivant ayant au moins une valeur correcte\n",
    "    if(np.isnan(temperature_value_max)):\n",
    "        temperature_value_max = np.average([getNextCorrectValue(si, row, 6), getPreviousCorrectValue(si, row, 6)])\n",
    "    # SI la valeur min est nulle, alors on va faire la moyenne entre les valeurs min \n",
    "    # du jour précédent et suivant ayant au moins une valeur correcte\n",
    "    if(np.isnan(temperature_value_min)):\n",
    "        temperature_value_min = np.average([getNextCorrectValue(si, row, 7), getPreviousCorrectValue(si, row, 7)])\n",
    "    # On sauvegarde la moyenne entre la température max et la température min\n",
    "    month_temperature.append(int(np.average([temperature_value_max, temperature_value_min])))\n",
    "    currentMonth = si.iloc[row, 1]\n",
    "    if currentMonth > month:\n",
    "        temperature.append(month_temperature)\n",
    "        month_temperature=[]\n",
    "        month = currentMonth\n",
    "\n",
    "temperature.append(month_temperature)"
   ]
  },
  {
   "cell_type": "code",
   "execution_count": 4,
   "metadata": {},
   "outputs": [
    {
     "name": "stdout",
     "output_type": "stream",
     "text": [
      "Month January average temperature -10.375\n",
      "Month February average temperature -13.821428571428571\n",
      "Month March average temperature -10.225806451612904\n",
      "Month April average temperature 0.6\n",
      "Month May average temperature 9.64516129032258\n",
      "Month June average temperature 10.0\n",
      "Month July average temperature 18.870967741935484\n",
      "Month August average temperature 12.580645161290322\n",
      "Month September average temperature 7.2\n",
      "Month October average temperature -0.6451612903225806\n",
      "Month November average temperature -0.8333333333333334\n",
      "Month December average temperature -7.833333333333333\n"
     ]
    }
   ],
   "source": [
    "temperature_average_per_month=[]\n",
    "\n",
    "# Calcul de la moyenne de température par mois\n",
    "\n",
    "for month in range(len(temperature)):\n",
    "    temperature_average = np.average(temperature[month])\n",
    "    temperature_average_per_month.append(temperature_average)\n",
    "    print(\"Month {!s} average temperature {!s}\".format(calendar.month_name[month + 1], temperature_average))"
   ]
  },
  {
   "cell_type": "code",
   "execution_count": 5,
   "metadata": {},
   "outputs": [
    {
     "name": "stdout",
     "output_type": "stream",
     "text": [
      "Month January standard deviation temperature 6.066042779275464\n",
      "Month February standard deviation temperature 6.633538010037498\n",
      "Month March standard deviation temperature 4.688418657812687\n",
      "Month April standard deviation temperature 2.7519689920733725\n",
      "Month May standard deviation temperature 4.284619056328858\n",
      "Month June standard deviation temperature 3.559026084010437\n",
      "Month July standard deviation temperature 2.624228740569386\n",
      "Month August standard deviation temperature 3.159973392582828\n",
      "Month September standard deviation temperature 3.7894590642992836\n",
      "Month October standard deviation temperature 4.439909815247807\n",
      "Month November standard deviation temperature 3.396894006131025\n",
      "Month December standard deviation temperature 5.235031571591097\n"
     ]
    }
   ],
   "source": [
    "temperature_standard_deviation_per_month=[]\n",
    "\n",
    "# Calcul de l'écart type de température par mois\n",
    "\n",
    "for month in range(len(temperature)):\n",
    "    temperature_standard_deviation = np.std(temperature[month])\n",
    "    temperature_standard_deviation_per_month.append(temperature_standard_deviation)\n",
    "    print(\"Month {!s} standard deviation temperature {!s}\".format(calendar.month_name[month + 1], temperature_standard_deviation))"
   ]
  },
  {
   "cell_type": "code",
   "execution_count": 6,
   "metadata": {},
   "outputs": [
    {
     "name": "stdout",
     "output_type": "stream",
     "text": [
      "January min temp -26 and max temp -3\n",
      "February min temp -27 and max temp -2\n",
      "March min temp -20 and max temp -2\n",
      "April min temp -7 and max temp 6\n",
      "May min temp 2 and max temp 17\n",
      "June min temp 4 and max temp 16\n",
      "July min temp 15 and max temp 24\n",
      "August min temp 8 and max temp 21\n",
      "September min temp -1 and max temp 13\n",
      "October min temp -11 and max temp 10\n",
      "November min temp -11 and max temp 3\n",
      "December min temp -24 and max temp -2\n",
      "Min temp -27 and max temp 24\n"
     ]
    }
   ],
   "source": [
    "temperature_min_per_month=[]\n",
    "temperature_max_per_month=[]\n",
    "\n",
    "min_temp = temperature[0][0]\n",
    "max_temp = temperature[0][0]\n",
    "\n",
    "# Détermination du minimum et maximum de la température par mois et de l'année\n",
    "\n",
    "for month in range(len(temperature)):\n",
    "    temperature_min = min(temperature[month])\n",
    "    temperature_max = max(temperature[month])\n",
    "    temperature_min_per_month.append(temperature_min)\n",
    "    temperature_max_per_month.append(temperature_max)\n",
    "    if temperature_min < min_temp:\n",
    "        min_temp = temperature_min\n",
    "    if temperature_max > max_temp:\n",
    "        max_temp = temperature_max\n",
    "    print(\"{!s} min temp {!s} and max temp {!s}\".format(calendar.month_name[month + 1], temperature_min, temperature_max))\n",
    "\n",
    "print(\"Min temp {!s} and max temp {!s}\".format(min_temp, max_temp))"
   ]
  },
  {
   "cell_type": "code",
   "execution_count": 7,
   "metadata": {},
   "outputs": [],
   "source": [
    "# Après analyse entre les données fournies par la station Savukoski et les données du SI-erreur qu'il n'y a pas de lien.\n",
    "# En effet, on constate que "
   ]
  }
 ],
 "metadata": {
  "kernelspec": {
   "display_name": "Python 3",
   "language": "python",
   "name": "python3"
  },
  "language_info": {
   "codemirror_mode": {
    "name": "ipython",
    "version": 3
   },
   "file_extension": ".py",
   "mimetype": "text/x-python",
   "name": "python",
   "nbconvert_exporter": "python",
   "pygments_lexer": "ipython3",
   "version": "3.8.6"
  }
 },
 "nbformat": 4,
 "nbformat_minor": 4
}
